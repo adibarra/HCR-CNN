{
 "cells": [
  {
   "cell_type": "markdown",
   "metadata": {},
   "source": [
    "### Save Checkpoint (EMNIST Digits)\n",
    "\n",
    "This notebook is used to train the best model found during training. \\\n",
    "It will be fully trained then saved as a checkpoint for use in the demo notebook."
   ]
  },
  {
   "cell_type": "code",
   "execution_count": null,
   "metadata": {},
   "outputs": [],
   "source": [
    "# Install dependencies\n",
    "%pip install --upgrade pip\n",
    "%pip install torchvision\n",
    "%pip install opencv-python-headless\n",
    "%pip install pandas\n",
    "%pip install numpy\n",
    "%pip install tensorflow[and-cuda]"
   ]
  },
  {
   "cell_type": "code",
   "execution_count": null,
   "metadata": {},
   "outputs": [],
   "source": [
    "# Import dependencies\n",
    "import random\n",
    "import numpy as np # type: ignore\n",
    "import pandas as pd # type: ignore\n",
    "import tensorflow as tf # type: ignore\n",
    "from tensorflow.keras.callbacks import EarlyStopping, ModelCheckpoint # type: ignore\n",
    "from tensorflow.keras.layers import Conv2D, Dense, Dropout, Flatten, Input, MaxPooling2D # type: ignore\n",
    "from tensorflow.keras.models import Sequential # type: ignore\n",
    "from tensorflow.keras.utils import to_categorical # type: ignore\n",
    "\n",
    "import cv2 # type: ignore\n",
    "from torchvision import datasets # type: ignore"
   ]
  },
  {
   "cell_type": "code",
   "execution_count": null,
   "metadata": {},
   "outputs": [],
   "source": [
    "# Tensorflow version\n",
    "print(f\"Tensorflow: v{tf.__version__}\")\n",
    "\n",
    "# Check GPU availability\n",
    "print(f\"GPUs Available: {len(tf.config.list_physical_devices('GPU'))}\")\n",
    "print(tf.config.list_physical_devices('GPU'))"
   ]
  },
  {
   "cell_type": "code",
   "execution_count": null,
   "metadata": {},
   "outputs": [],
   "source": [
    "# Set seed for reproducibility\n",
    "SEED = 42\n",
    "random.seed(SEED)\n",
    "np.random.seed(SEED)"
   ]
  },
  {
   "cell_type": "code",
   "execution_count": null,
   "metadata": {},
   "outputs": [],
   "source": [
    "# Define data transformations\n",
    "def transform(image):\n",
    "    image = np.array(image)\n",
    "    image = cv2.flip(image, 1)\n",
    "    center = (image.shape[1] // 2, image.shape[0] // 2)\n",
    "    rotation_matrix = cv2.getRotationMatrix2D(center, angle=90, scale=1.0)\n",
    "    image = cv2.warpAffine(image, rotation_matrix, (image.shape[1], image.shape[0]), flags=cv2.INTER_LINEAR)\n",
    "    image = image.astype('float32') / 255.0\n",
    "    image = np.expand_dims(image, axis=-1)\n",
    "    return image\n",
    "\n",
    "# Load EMNIST Digits subset\n",
    "emnist_train = datasets.EMNIST(root='../data', split='digits', train=True, transform=transform, download=True)\n",
    "emnist_test = datasets.EMNIST(root='../data', split='digits', train=False, transform=transform, download=True)\n",
    "\n",
    "# Convert to numpy arrays for TensorFlow\n",
    "X_train = np.array([img[0] for img in emnist_train])\n",
    "y_train = np.array([img[1] for img in emnist_train])\n",
    "X_test = np.array([img[0] for img in emnist_test])\n",
    "y_test = np.array([img[1] for img in emnist_test])\n",
    "\n",
    "# One-hot encode the labels\n",
    "y_train = to_categorical(y_train, 10)\n",
    "y_test = to_categorical(y_test, 10)\n",
    "\n",
    "# Display some info and stats about the dataset\n",
    "print(f'Training data shape: {X_train.shape}')\n",
    "print(f'Test data shape: {X_test.shape}')\n",
    "print(f'Number of classes: {y_train.shape[1]}')"
   ]
  },
  {
   "cell_type": "code",
   "execution_count": null,
   "metadata": {},
   "outputs": [],
   "source": [
    "# Get the top model from the combined results\n",
    "all_results = pd.read_csv('../results/emnist-digits/all.csv')\n",
    "top_model = all_results.head(1)\n",
    "top_model"
   ]
  },
  {
   "cell_type": "code",
   "execution_count": null,
   "metadata": {},
   "outputs": [],
   "source": [
    "# Define the model\n",
    "def create_custom_model(conv1, conv2, dense_units, dropout_rate, learning_rate):\n",
    "    # Build the model architecture\n",
    "    model = Sequential([\n",
    "        Input(shape=(28, 28, 1)),\n",
    "        Conv2D(conv1, (3, 3), activation='relu'),\n",
    "        MaxPooling2D((2, 2)),\n",
    "        Conv2D(conv2, (3, 3), activation='relu'),\n",
    "        MaxPooling2D((2, 2)),\n",
    "        Flatten(),\n",
    "        Dense(dense_units, activation='relu'),\n",
    "        Dropout(dropout_rate),\n",
    "        Dense(10, activation='softmax')\n",
    "    ])\n",
    "    \n",
    "    # Compile the model with the chosen learning rate\n",
    "    model.compile(\n",
    "        optimizer=tf.keras.optimizers.Adam(learning_rate=learning_rate),\n",
    "        loss='categorical_crossentropy',\n",
    "        metrics=['accuracy']\n",
    "    )\n",
    "    \n",
    "    return model\n",
    "\n",
    "# Build the model\n",
    "model = create_custom_model(\n",
    "    int(top_model['conv1'].iloc[0]),\n",
    "    int(top_model['conv2'].iloc[0]),\n",
    "    int(top_model['dense_units'].iloc[0]),\n",
    "    float(top_model['dropout_rate'].iloc[0]),\n",
    "    float(top_model['learning_rate'].iloc[0])\n",
    ")"
   ]
  },
  {
   "cell_type": "code",
   "execution_count": null,
   "metadata": {},
   "outputs": [],
   "source": [
    "# Train the model\n",
    "model.fit(\n",
    "    X_train, y_train, \n",
    "    validation_data=(X_test, y_test),\n",
    "    epochs=30,\n",
    "    batch_size=int(top_model['batch_size']),\n",
    "    callbacks=[\n",
    "        ModelCheckpoint(\n",
    "            '../results/emnist-digits/best-model.keras',\n",
    "            monitor='val_accuracy',\n",
    "            mode='max',\n",
    "            save_best_only=True,\n",
    "            verbose=1\n",
    "        ),\n",
    "        EarlyStopping(\n",
    "            monitor='val_accuracy',\n",
    "            patience=3,\n",
    "            restore_best_weights=True,\n",
    "            verbose=1\n",
    "        ),\n",
    "    ]\n",
    ")"
   ]
  }
 ],
 "metadata": {
  "kernelspec": {
   "display_name": ".venv",
   "language": "python",
   "name": "python3"
  },
  "language_info": {
   "codemirror_mode": {
    "name": "ipython",
    "version": 3
   },
   "file_extension": ".py",
   "mimetype": "text/x-python",
   "name": "python",
   "nbconvert_exporter": "python",
   "pygments_lexer": "ipython3",
   "version": "3.10.12"
  }
 },
 "nbformat": 4,
 "nbformat_minor": 2
}
