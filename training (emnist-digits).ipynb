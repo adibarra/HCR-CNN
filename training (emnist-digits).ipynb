{
 "cells": [
  {
   "cell_type": "markdown",
   "id": "2d4842cf",
   "metadata": {},
   "source": [
    "CS 4375 - Final Project\\\n",
    "Model 2: EMNIST Digits\n",
    "\n",
    "**Author**: Alec Ibarra\\\n",
    "**Date**: 2024-11-02"
   ]
  },
  {
   "cell_type": "code",
   "execution_count": null,
   "id": "973092ab",
   "metadata": {},
   "outputs": [],
   "source": [
    "# Install dependencies\n",
    "%pip install --upgrade pip\n",
    "%pip install torchvision\n",
    "%pip install opencv-python-headless\n",
    "%pip install matplotlib\n",
    "%pip install pandas\n",
    "%pip install tensorflow[and-cuda]\n",
    "%pip install keras-tuner"
   ]
  },
  {
   "cell_type": "code",
   "execution_count": null,
   "id": "537ec704",
   "metadata": {},
   "outputs": [],
   "source": [
    "# Import dependencies\n",
    "import os\n",
    "import matplotlib.pyplot as plt # type: ignore\n",
    "import numpy as np # type: ignore\n",
    "import pandas as pd # type: ignore\n",
    "import tensorflow as tf # type: ignore\n",
    "from tensorflow.keras.callbacks import EarlyStopping # type: ignore\n",
    "from tensorflow.keras.layers import Conv2D, Dense, Dropout, Flatten, Input, MaxPooling2D # type: ignore\n",
    "from tensorflow.keras.models import Sequential # type: ignore\n",
    "from tensorflow.keras.utils import to_categorical # type: ignore\n",
    "from keras_tuner.tuners import Hyperband # type: ignore\n",
    "\n",
    "import cv2 # type: ignore\n",
    "from torchvision import datasets # type: ignore"
   ]
  },
  {
   "cell_type": "code",
   "execution_count": null,
   "id": "90926d93",
   "metadata": {},
   "outputs": [],
   "source": [
    "# Tensorflow version\n",
    "print(f\"Tensorflow: v{tf.__version__}\")\n",
    "\n",
    "# Check GPU availability\n",
    "print(f\"GPUs Available: {len(tf.config.list_physical_devices('GPU'))}\")\n",
    "print(tf.config.list_physical_devices('GPU'))"
   ]
  },
  {
   "cell_type": "code",
   "execution_count": null,
   "id": "6ee04e04",
   "metadata": {},
   "outputs": [],
   "source": [
    "# Set seed for reproducibility\n",
    "SEED = 42\n",
    "np.random.seed(SEED)"
   ]
  },
  {
   "cell_type": "code",
   "execution_count": null,
   "id": "b7a2055b",
   "metadata": {},
   "outputs": [],
   "source": [
    "# Define data transformations\n",
    "def transform(image):\n",
    "    image = np.array(image)\n",
    "    image = cv2.flip(image, 1)\n",
    "    center = (image.shape[1] // 2, image.shape[0] // 2)\n",
    "    rotation_matrix = cv2.getRotationMatrix2D(center, angle=90, scale=1.0)\n",
    "    image = cv2.warpAffine(image, rotation_matrix, (image.shape[1], image.shape[0]), flags=cv2.INTER_LINEAR)\n",
    "    image = image.astype('float32') / 255.0\n",
    "    image = np.expand_dims(image, axis=-1)\n",
    "    return image\n",
    "\n",
    "# Load EMNIST Digits subset\n",
    "emnist_train = datasets.EMNIST(root='./data', split='digits', train=True, transform=transform, download=True)\n",
    "emnist_test = datasets.EMNIST(root='./data', split='digits', train=False, transform=transform, download=True)\n",
    "\n",
    "# Convert to numpy arrays for TensorFlow\n",
    "X_train = np.array([img[0] for img in emnist_train])\n",
    "y_train = np.array([img[1] for img in emnist_train])\n",
    "X_test = np.array([img[0] for img in emnist_test])\n",
    "y_test = np.array([img[1] for img in emnist_test])\n",
    "\n",
    "# One-hot encode the labels\n",
    "y_train = to_categorical(y_train, 10)\n",
    "y_test = to_categorical(y_test, 10)\n",
    "\n",
    "# Display some info and stats about the dataset\n",
    "print(f'Training data shape: {X_train.shape}')\n",
    "print(f'Test data shape: {X_test.shape}')\n",
    "print(f'Number of classes: {y_train.shape[1]}')"
   ]
  },
  {
   "cell_type": "code",
   "execution_count": null,
   "id": "3daff963",
   "metadata": {},
   "outputs": [],
   "source": [
    "# Plot some data samples\n",
    "fig, axes = plt.subplots(1, 15, figsize=(20, 3))\n",
    "for i, ax in enumerate(axes):\n",
    "    ax.imshow(X_train[i].squeeze(), cmap='gray')\n",
    "    ax.set_title(f'Label: {np.argmax(y_train[i])}')\n",
    "    ax.axis('off')"
   ]
  },
  {
   "cell_type": "code",
   "execution_count": null,
   "id": "bd9627f7",
   "metadata": {},
   "outputs": [],
   "source": [
    "# Set the batch size\n",
    "batch_size = 256\n",
    "\n",
    "# Define the CNN model for tuning\n",
    "def create_model(hp):\n",
    "    # Define a wider hyperparameter range for more comprehensive search\n",
    "    conv1 = hp.Int('conv1', min_value=32, max_value=256, step=32)\n",
    "    conv2 = hp.Int('conv2', min_value=32, max_value=256, step=32)\n",
    "    dense_units = hp.Int('dense_units', min_value=32, max_value=256, step=32)\n",
    "    dropout_rate = hp.Float('dropout_rate', min_value=0.1, max_value=0.9, step=0.1)\n",
    "    learning_rate = hp.Float('learning_rate', min_value=0.0001, max_value=0.01, sampling='log')\n",
    "    \n",
    "    # Build the model architecture\n",
    "    model = Sequential([\n",
    "        Input(shape=(28, 28, 1)),\n",
    "        Conv2D(conv1, (3, 3), activation='relu'),\n",
    "        MaxPooling2D((2, 2)),\n",
    "        Conv2D(conv2, (3, 3), activation='relu'),\n",
    "        MaxPooling2D((2, 2)),\n",
    "        Flatten(),\n",
    "        Dense(dense_units, activation='relu'),\n",
    "        Dropout(dropout_rate),\n",
    "        Dense(10, activation='softmax')\n",
    "    ])\n",
    "    \n",
    "    # Compile the model with the chosen learning rate\n",
    "    model.compile(\n",
    "        optimizer=tf.keras.optimizers.Adam(learning_rate=learning_rate),\n",
    "        loss='categorical_crossentropy',\n",
    "        metrics=['accuracy']\n",
    "    )\n",
    "    \n",
    "    return model\n",
    "\n",
    "# Initialize the tuner\n",
    "tuner = Hyperband(\n",
    "    create_model,\n",
    "    seed=SEED,\n",
    "    objective='val_accuracy',\n",
    "    max_epochs=100,\n",
    "    factor=2,\n",
    "    hyperband_iterations=5,\n",
    "    directory='hyperband',\n",
    "    max_retries_per_trial=3,\n",
    "    project_name=f'emnist-digits/{batch_size}_cnn_tuning'\n",
    ")"
   ]
  },
  {
   "cell_type": "code",
   "execution_count": null,
   "id": "c51a9aca",
   "metadata": {},
   "outputs": [],
   "source": [
    "# Start the search for the best hyperparameters\n",
    "tuner.search(\n",
    "    X_train,\n",
    "    y_train,\n",
    "    epochs=100,\n",
    "    batch_size=batch_size,\n",
    "    validation_split=0.2,\n",
    "    callbacks=[\n",
    "        EarlyStopping(\n",
    "            monitor='val_accuracy',\n",
    "            patience=3,\n",
    "            restore_best_weights=True,\n",
    "            verbose=1\n",
    "        ),\n",
    "    ]\n",
    ")"
   ]
  },
  {
   "cell_type": "code",
   "execution_count": null,
   "id": "5530e9a4",
   "metadata": {},
   "outputs": [],
   "source": [
    "# Extract all results from tuner\n",
    "trials = tuner.oracle.get_best_trials(num_trials=9999)\n",
    "\n",
    "# Create a DataFrame with trial IDs, hyperparameters, and scores\n",
    "results_df = pd.DataFrame({\n",
    "    'val_accuracy': [trial.score for trial in trials],\n",
    "    'conv1': [trial.hyperparameters.values['conv1'] for trial in trials],\n",
    "    'conv2': [trial.hyperparameters.values['conv2'] for trial in trials],\n",
    "    'dense_units': [trial.hyperparameters.values['dense_units'] for trial in trials],\n",
    "    'dropout_rate': [trial.hyperparameters.values['dropout_rate'] for trial in trials],\n",
    "    'learning_rate': [trial.hyperparameters.values['learning_rate'] for trial in trials],\n",
    "    'epochs': [trial.hyperparameters.values['tuner/epochs'] for trial in trials],\n",
    "    'batch_size': batch_size,\n",
    "})\n",
    "\n",
    "# Save the results to a CSV file\n",
    "os.makedirs('results/emnist-digits', exist_ok=True)\n",
    "results_df.to_csv(f'results/emnist-digits/{batch_size}-all.csv', index=True)\n",
    "results_df.head()"
   ]
  }
 ],
 "metadata": {
  "kernelspec": {
   "display_name": ".venv",
   "language": "python",
   "name": "python3"
  },
  "language_info": {
   "codemirror_mode": {
    "name": "ipython",
    "version": 3
   },
   "file_extension": ".py",
   "mimetype": "text/x-python",
   "name": "python",
   "nbconvert_exporter": "python",
   "pygments_lexer": "ipython3",
   "version": "3.10.12"
  }
 },
 "nbformat": 4,
 "nbformat_minor": 5
}
